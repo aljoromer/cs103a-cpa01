{
 "cells": [
  {
   "cell_type": "markdown",
   "id": "7ab3c121-8776-46f5-a002-a14994db96ef",
   "metadata": {},
   "source": [
    "# Examining locations of bikeshare systems in US cities\n",
    "\n",
    "https://data.bts.gov/stories/s/fwcs-jprj\n",
    "\n",
    "In many US cities, one can find a bikesharing system in place.\n",
    "\n",
    "A bikesharing system allows an individual to pay a small fee to grab a bike from a station. The user can ride it one way to another station for drop off.\n",
    "\n",
    "This system is used by people commuting to work, tourists, or local residents that just want to have a relaxing bikeride.\n",
    "\n",
    "In Boston, this system is called Bluebikes.\n",
    "\n",
    "For $109 a year, the customer gets unlimited access to this system with no additional charges, making it an easy and affordable way to enjoy the benefits that come with biking in a city."
   ]
  },
  {
   "cell_type": "markdown",
   "id": "3718dfcf-bc8a-4156-9e00-85bd3e6f9c2d",
   "metadata": {},
   "source": [
    "Imports:"
   ]
  },
  {
   "cell_type": "code",
   "execution_count": 1,
   "id": "e07091e7-51b5-4394-b5dc-d61bea6b4ccb",
   "metadata": {},
   "outputs": [],
   "source": [
    "import pandas as pd\n",
    "import numpy as np\n",
    "import matplotlib.pyplot as plt"
   ]
  },
  {
   "cell_type": "markdown",
   "id": "e215231b-e8eb-4e5e-b4f0-0e0c19ec7670",
   "metadata": {},
   "source": [
    "Load in CSV:"
   ]
  },
  {
   "cell_type": "code",
   "execution_count": 2,
   "id": "62185829-8f17-47ec-86e1-6f5d09cc25ec",
   "metadata": {},
   "outputs": [],
   "source": [
    "df = pd.read_csv(\"Locations_of_Docked_Bikeshare_Stations_by_System_and_Year.csv\")"
   ]
  },
  {
   "cell_type": "code",
   "execution_count": 3,
   "id": "2f9749d9-ed9c-4811-b23c-b04a2665c9d5",
   "metadata": {},
   "outputs": [
    {
     "data": {
      "text/html": [
       "<div>\n",
       "<style scoped>\n",
       "    .dataframe tbody tr th:only-of-type {\n",
       "        vertical-align: middle;\n",
       "    }\n",
       "\n",
       "    .dataframe tbody tr th {\n",
       "        vertical-align: top;\n",
       "    }\n",
       "\n",
       "    .dataframe thead th {\n",
       "        text-align: right;\n",
       "    }\n",
       "</style>\n",
       "<table border=\"1\" class=\"dataframe\">\n",
       "  <thead>\n",
       "    <tr style=\"text-align: right;\">\n",
       "      <th></th>\n",
       "      <th>ID</th>\n",
       "      <th>SYSTEM_ID</th>\n",
       "      <th>YEAR</th>\n",
       "      <th>ASOFDATE</th>\n",
       "      <th>ZIPCODE</th>\n",
       "      <th>CBSA_CODE</th>\n",
       "      <th>LONGITUDE</th>\n",
       "      <th>LATITUDE</th>\n",
       "    </tr>\n",
       "  </thead>\n",
       "  <tbody>\n",
       "    <tr>\n",
       "      <th>count</th>\n",
       "      <td>42057.000000</td>\n",
       "      <td>42057.000000</td>\n",
       "      <td>42057.000000</td>\n",
       "      <td>42057.000000</td>\n",
       "      <td>42057.000000</td>\n",
       "      <td>42057.000000</td>\n",
       "      <td>42057.000000</td>\n",
       "      <td>42057.000000</td>\n",
       "    </tr>\n",
       "    <tr>\n",
       "      <th>mean</th>\n",
       "      <td>21034.811946</td>\n",
       "      <td>44.273129</td>\n",
       "      <td>2018.379390</td>\n",
       "      <td>201849.938988</td>\n",
       "      <td>46939.749364</td>\n",
       "      <td>31239.217253</td>\n",
       "      <td>-90.705045</td>\n",
       "      <td>38.428575</td>\n",
       "    </tr>\n",
       "    <tr>\n",
       "      <th>std</th>\n",
       "      <td>12149.290721</td>\n",
       "      <td>34.703032</td>\n",
       "      <td>1.884395</td>\n",
       "      <td>188.439457</td>\n",
       "      <td>31502.973593</td>\n",
       "      <td>11485.459247</td>\n",
       "      <td>18.165224</td>\n",
       "      <td>5.062084</td>\n",
       "    </tr>\n",
       "    <tr>\n",
       "      <th>min</th>\n",
       "      <td>1.000000</td>\n",
       "      <td>1.000000</td>\n",
       "      <td>2015.000000</td>\n",
       "      <td>201512.000000</td>\n",
       "      <td>0.000000</td>\n",
       "      <td>0.000000</td>\n",
       "      <td>-157.870423</td>\n",
       "      <td>21.267900</td>\n",
       "    </tr>\n",
       "    <tr>\n",
       "      <th>25%</th>\n",
       "      <td>10515.000000</td>\n",
       "      <td>11.000000</td>\n",
       "      <td>2017.000000</td>\n",
       "      <td>201712.000000</td>\n",
       "      <td>19103.000000</td>\n",
       "      <td>17460.000000</td>\n",
       "      <td>-97.401744</td>\n",
       "      <td>36.159730</td>\n",
       "    </tr>\n",
       "    <tr>\n",
       "      <th>50%</th>\n",
       "      <td>21029.000000</td>\n",
       "      <td>42.000000</td>\n",
       "      <td>2018.000000</td>\n",
       "      <td>201812.000000</td>\n",
       "      <td>45402.000000</td>\n",
       "      <td>33460.000000</td>\n",
       "      <td>-86.591966</td>\n",
       "      <td>39.968180</td>\n",
       "    </tr>\n",
       "    <tr>\n",
       "      <th>75%</th>\n",
       "      <td>31543.000000</td>\n",
       "      <td>60.000000</td>\n",
       "      <td>2020.000000</td>\n",
       "      <td>202012.000000</td>\n",
       "      <td>77030.000000</td>\n",
       "      <td>38900.000000</td>\n",
       "      <td>-76.976900</td>\n",
       "      <td>41.866492</td>\n",
       "    </tr>\n",
       "    <tr>\n",
       "      <th>max</th>\n",
       "      <td>42091.000000</td>\n",
       "      <td>152.000000</td>\n",
       "      <td>2021.000000</td>\n",
       "      <td>202112.000000</td>\n",
       "      <td>98104.000000</td>\n",
       "      <td>49180.000000</td>\n",
       "      <td>-70.753969</td>\n",
       "      <td>47.666145</td>\n",
       "    </tr>\n",
       "  </tbody>\n",
       "</table>\n",
       "</div>"
      ],
      "text/plain": [
       "                 ID     SYSTEM_ID          YEAR       ASOFDATE       ZIPCODE  \\\n",
       "count  42057.000000  42057.000000  42057.000000   42057.000000  42057.000000   \n",
       "mean   21034.811946     44.273129   2018.379390  201849.938988  46939.749364   \n",
       "std    12149.290721     34.703032      1.884395     188.439457  31502.973593   \n",
       "min        1.000000      1.000000   2015.000000  201512.000000      0.000000   \n",
       "25%    10515.000000     11.000000   2017.000000  201712.000000  19103.000000   \n",
       "50%    21029.000000     42.000000   2018.000000  201812.000000  45402.000000   \n",
       "75%    31543.000000     60.000000   2020.000000  202012.000000  77030.000000   \n",
       "max    42091.000000    152.000000   2021.000000  202112.000000  98104.000000   \n",
       "\n",
       "          CBSA_CODE     LONGITUDE      LATITUDE  \n",
       "count  42057.000000  42057.000000  42057.000000  \n",
       "mean   31239.217253    -90.705045     38.428575  \n",
       "std    11485.459247     18.165224      5.062084  \n",
       "min        0.000000   -157.870423     21.267900  \n",
       "25%    17460.000000    -97.401744     36.159730  \n",
       "50%    33460.000000    -86.591966     39.968180  \n",
       "75%    38900.000000    -76.976900     41.866492  \n",
       "max    49180.000000    -70.753969     47.666145  "
      ]
     },
     "execution_count": 3,
     "metadata": {},
     "output_type": "execute_result"
    }
   ],
   "source": [
    "df.describe()"
   ]
  },
  {
   "cell_type": "markdown",
   "id": "069b377a-b080-4438-921c-082a14695bc4",
   "metadata": {},
   "source": [
    "# Bikeshare Systems by Year"
   ]
  },
  {
   "cell_type": "code",
   "execution_count": 4,
   "id": "916046ef-f219-4999-a216-339b2b54e178",
   "metadata": {},
   "outputs": [
    {
     "data": {
      "text/plain": [
       "YEAR\n",
       "2015    3362\n",
       "2016    4882\n",
       "2017    6132\n",
       "2018    7042\n",
       "2019    6809\n",
       "2020    6361\n",
       "2021    7469\n",
       "dtype: int64"
      ]
     },
     "execution_count": 4,
     "metadata": {},
     "output_type": "execute_result"
    }
   ],
   "source": [
    "df2 = df.groupby(\"YEAR\").size()\n",
    "df2"
   ]
  },
  {
   "cell_type": "code",
   "execution_count": 5,
   "id": "00a4063d-0780-431e-ae6b-0aee6ef01adf",
   "metadata": {},
   "outputs": [
    {
     "data": {
      "text/plain": [
       "Text(0, 0.5, '# of bikeshare stations')"
      ]
     },
     "execution_count": 5,
     "metadata": {},
     "output_type": "execute_result"
    },
    {
     "data": {
      "image/png": "[encoded data removed]",
      "text/plain": [
       "<Figure size 432x288 with 1 Axes>"
      ]
     },
     "metadata": {
      "needs_background": "light"
     },
     "output_type": "display_data"
    }
   ],
   "source": [
    "plt.plot(df2)\n",
    "plt.grid()\n",
    "plt.title('Total number of Bikeshare Stations by Year Since 2015')\n",
    "plt.xlabel(\"Year\")\n",
    "plt.ylabel(\"# of bikeshare stations\")"
   ]
  },
  {
   "cell_type": "markdown",
   "id": "621518b9-b12e-4730-8288-e12afccf8e07",
   "metadata": {},
   "source": [
    "# Which Cities Have the Most Bikeshare Stations?"
   ]
  },
  {
   "cell_type": "code",
   "execution_count": 6,
   "id": "abef8f53-14a9-440c-940e-8c79e06a9f0b",
   "metadata": {},
   "outputs": [
    {
     "data": {
      "text/plain": [
       "CITY\n",
       "Chicago          3940\n",
       "New York         3170\n",
       "Washington       1952\n",
       "Brooklyn         1900\n",
       "Minneapolis      1287\n",
       "San Francisco    1123\n",
       "Boston            973\n",
       "Portland          906\n",
       "Philadelphia      865\n",
       "Topeka            810\n",
       "Los Angeles       746\n",
       "Arlington         665\n",
       "Atlanta           643\n",
       "Honolulu          636\n",
       "Pittsburgh        573\n",
       "Miami Beach       551\n",
       "Houston           535\n",
       "Milwaukee         478\n",
       "Miami             470\n",
       "Austin            467\n",
       "dtype: int64"
      ]
     },
     "execution_count": 6,
     "metadata": {},
     "output_type": "execute_result"
    }
   ],
   "source": [
    "df3 = df.groupby(\"CITY\").size()\n",
    "\n",
    "df3 = df3.sort_values(ascending=False)\n",
    "df3.head(20)"
   ]
  },
  {
   "cell_type": "markdown",
   "id": "fb6f1c4c-3ba0-4fba-b555-71942c688825",
   "metadata": {},
   "source": [
    "### Some interesting points:\n",
    "- NYC is the winner (when we include Brooklyn)\n",
    "-Minneapolis and Topeka have quite a few, considering their size\n",
    "-Los Angeles, despite being the 2nd largest city in the country, comes in at #11.\n",
    "-Some noteable exclusions from the top 20 cities are Seattle, Indianapolis, Detroit, Dallas, Nashville, and Phoenix."
   ]
  },
  {
   "cell_type": "markdown",
   "id": "8404df60-669a-4701-a27e-f71d6c1f2189",
   "metadata": {},
   "source": [
    "# Which brand has the most stations?"
   ]
  },
  {
   "cell_type": "code",
   "execution_count": 8,
   "id": "9e4cc678-e73b-452e-a603-d238564861fc",
   "metadata": {},
   "outputs": [
    {
     "data": {
      "text/plain": [
       "SYSTEM_NAME\n",
       "Citi Bike                                                                            6216\n",
       "Divvy                                                                                4124\n",
       "Capital Bikeshare                                                                    3674\n",
       "Bay Area BikeShare (became Ford GoBike 06/28/2017 then became Bay Wheels 06/2019)    2245\n",
       "Hubway (03/2018 re-launched as Blue Bikes)                                           1738\n",
       "Nice Ride Minnesota (became partially dockless in 2018)                              1528\n",
       "Citi Bike Miami                                                                      1022\n",
       "Metro Bike Share Los Angeles                                                          908\n",
       "BikeTown Portland                                                                     906\n",
       "Inde'go                                                                               865\n",
       "Topeka Metro Bikes                                                                    810\n",
       "Coast Bike Share                                                                      647\n",
       "Relay Bike Share                                                                      643\n",
       "Hawaii Bikibike                                                                       636\n",
       "Healthy Ride                                                                          573\n",
       "Houston B-cycle                                                                       535\n",
       "Grid                                                                                  495\n",
       "Bublr Bikes                                                                           482\n",
       "COGO                                                                                  452\n",
       "Austin B-cycle                                                                        449\n",
       "dtype: int64"
      ]
     },
     "execution_count": 8,
     "metadata": {},
     "output_type": "execute_result"
    }
   ],
   "source": [
    "df4 = df.groupby(\"SYSTEM_NAME\").size()\n",
    "\n",
    "df4 = df4.sort_values(ascending=False)\n",
    "df4.head(20)"
   ]
  },
  {
   "cell_type": "markdown",
   "id": "7687f4c6-3c10-44ec-8fd1-f8f1d797de45",
   "metadata": {},
   "source": [
    "# "
   ]
  },
  {
   "cell_type": "code",
   "execution_count": 21,
   "id": "8296e62f-b66c-4a2a-a819-d7734eaf10c6",
   "metadata": {},
   "outputs": [
    {
     "data": {
      "text/html": [
       "<div>\n",
       "<style scoped>\n",
       "    .dataframe tbody tr th:only-of-type {\n",
       "        vertical-align: middle;\n",
       "    }\n",
       "\n",
       "    .dataframe tbody tr th {\n",
       "        vertical-align: top;\n",
       "    }\n",
       "\n",
       "    .dataframe thead th {\n",
       "        text-align: right;\n",
       "    }\n",
       "</style>\n",
       "<table border=\"1\" class=\"dataframe\">\n",
       "  <thead>\n",
       "    <tr style=\"text-align: right;\">\n",
       "      <th>YEAR</th>\n",
       "      <th>2015</th>\n",
       "      <th>2016</th>\n",
       "      <th>2017</th>\n",
       "      <th>2018</th>\n",
       "      <th>2019</th>\n",
       "      <th>2020</th>\n",
       "      <th>2021</th>\n",
       "    </tr>\n",
       "  </thead>\n",
       "  <tbody>\n",
       "    <tr>\n",
       "      <th>count</th>\n",
       "      <td>100.000000</td>\n",
       "      <td>149.000000</td>\n",
       "      <td>196.000000</td>\n",
       "      <td>220.000000</td>\n",
       "      <td>217.000000</td>\n",
       "      <td>188.000000</td>\n",
       "      <td>209.000000</td>\n",
       "    </tr>\n",
       "    <tr>\n",
       "      <th>mean</th>\n",
       "      <td>33.620000</td>\n",
       "      <td>32.765101</td>\n",
       "      <td>31.285714</td>\n",
       "      <td>32.009091</td>\n",
       "      <td>31.377880</td>\n",
       "      <td>33.835106</td>\n",
       "      <td>35.736842</td>\n",
       "    </tr>\n",
       "    <tr>\n",
       "      <th>std</th>\n",
       "      <td>62.817642</td>\n",
       "      <td>64.579240</td>\n",
       "      <td>61.615932</td>\n",
       "      <td>64.580062</td>\n",
       "      <td>63.463062</td>\n",
       "      <td>71.671409</td>\n",
       "      <td>83.072852</td>\n",
       "    </tr>\n",
       "    <tr>\n",
       "      <th>min</th>\n",
       "      <td>1.000000</td>\n",
       "      <td>1.000000</td>\n",
       "      <td>1.000000</td>\n",
       "      <td>1.000000</td>\n",
       "      <td>1.000000</td>\n",
       "      <td>1.000000</td>\n",
       "      <td>1.000000</td>\n",
       "    </tr>\n",
       "    <tr>\n",
       "      <th>25%</th>\n",
       "      <td>4.750000</td>\n",
       "      <td>3.000000</td>\n",
       "      <td>3.000000</td>\n",
       "      <td>3.000000</td>\n",
       "      <td>3.000000</td>\n",
       "      <td>3.000000</td>\n",
       "      <td>2.000000</td>\n",
       "    </tr>\n",
       "    <tr>\n",
       "      <th>50%</th>\n",
       "      <td>13.000000</td>\n",
       "      <td>13.000000</td>\n",
       "      <td>11.000000</td>\n",
       "      <td>10.000000</td>\n",
       "      <td>10.000000</td>\n",
       "      <td>9.500000</td>\n",
       "      <td>8.000000</td>\n",
       "    </tr>\n",
       "    <tr>\n",
       "      <th>75%</th>\n",
       "      <td>33.500000</td>\n",
       "      <td>37.000000</td>\n",
       "      <td>36.000000</td>\n",
       "      <td>35.000000</td>\n",
       "      <td>34.000000</td>\n",
       "      <td>35.250000</td>\n",
       "      <td>33.000000</td>\n",
       "    </tr>\n",
       "    <tr>\n",
       "      <th>max</th>\n",
       "      <td>469.000000</td>\n",
       "      <td>559.000000</td>\n",
       "      <td>563.000000</td>\n",
       "      <td>594.000000</td>\n",
       "      <td>564.000000</td>\n",
       "      <td>568.000000</td>\n",
       "      <td>645.000000</td>\n",
       "    </tr>\n",
       "  </tbody>\n",
       "</table>\n",
       "</div>"
      ],
      "text/plain": [
       "YEAR         2015        2016        2017        2018        2019        2020  \\\n",
       "count  100.000000  149.000000  196.000000  220.000000  217.000000  188.000000   \n",
       "mean    33.620000   32.765101   31.285714   32.009091   31.377880   33.835106   \n",
       "std     62.817642   64.579240   61.615932   64.580062   63.463062   71.671409   \n",
       "min      1.000000    1.000000    1.000000    1.000000    1.000000    1.000000   \n",
       "25%      4.750000    3.000000    3.000000    3.000000    3.000000    3.000000   \n",
       "50%     13.000000   13.000000   11.000000   10.000000   10.000000    9.500000   \n",
       "75%     33.500000   37.000000   36.000000   35.000000   34.000000   35.250000   \n",
       "max    469.000000  559.000000  563.000000  594.000000  564.000000  568.000000   \n",
       "\n",
       "YEAR         2021  \n",
       "count  209.000000  \n",
       "mean    35.736842  \n",
       "std     83.072852  \n",
       "min      1.000000  \n",
       "25%      2.000000  \n",
       "50%      8.000000  \n",
       "75%     33.000000  \n",
       "max    645.000000  "
      ]
     },
     "execution_count": 21,
     "metadata": {},
     "output_type": "execute_result"
    }
   ],
   "source": [
    "df5 = pd.pivot_table(df,columns = \"YEAR\",index=\"CITY\",aggfunc='size')\n",
    "df5.describe()"
   ]
  },
  {
   "cell_type": "markdown",
   "id": "dca9bebc-6ecd-4807-8a8b-be921f47618a",
   "metadata": {},
   "source": [
    "# FINDINGS\n",
    "- Bikesharing systems are growing in popularity around the United States\n",
    "-There is a lot of room for bikesharing systems to grow in cities such as LA, which have very few bikes compared to cities like Chicago and NYC.\n",
    "-There is healthy competition among systems, with each city usually having its own system."
   ]
  }
 ],
 "metadata": {
  "kernelspec": {
   "display_name": "Python 3 (ipykernel)",
   "language": "python",
   "name": "python3"
  },
  "language_info": {
   "codemirror_mode": {
    "name": "ipython",
    "version": 3
   },
   "file_extension": ".py",
   "mimetype": "text/x-python",
   "name": "python",
   "nbconvert_exporter": "python",
   "pygments_lexer": "ipython3",
   "version": "3.9.5"
  }
 },
 "nbformat": 4,
 "nbformat_minor": 5
}
