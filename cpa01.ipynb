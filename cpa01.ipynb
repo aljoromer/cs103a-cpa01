{
 "cells": [
  {
   "cell_type": "markdown",
   "id": "7ab3c121-8776-46f5-a002-a14994db96ef",
   "metadata": {},
   "source": [
    "# Examining locations of bikeshare systems in US cities\n",
    "\n",
    "https://data.bts.gov/stories/s/fwcs-jprj\n",
    "\n",
    "In many US cities, one can find a bikesharing system in place.\n",
    "\n",
    "A bikesharing system allows an individual to pay a small fee to grab a bike from a station. The user can ride it one way to another station for drop off.\n",
    "\n",
    "This system is used by people commuting to work, tourists, or local residents that just want to have a relaxing bikeride.\n",
    "\n",
    "In Boston, this system is called Bluebikes.\n",
    "\n",
    "For $109 a year, the customer gets unlimited access to this system with no additional charges, making it an easy and affordable way to enjoy the benefits that come with biking in a city."
   ]
  },
  {
   "cell_type": "markdown",
   "id": "3718dfcf-bc8a-4156-9e00-85bd3e6f9c2d",
   "metadata": {},
   "source": [
    "Imports:"
   ]
  },
  {
   "cell_type": "code",
   "execution_count": null,
   "id": "e07091e7-51b5-4394-b5dc-d61bea6b4ccb",
   "metadata": {},
   "outputs": [],
   "source": [
    "import pandas as pd\n",
    "import numpy as np\n",
    "import matplotlib.pyplot as plt"
   ]
  },
  {
   "cell_type": "markdown",
   "id": "e215231b-e8eb-4e5e-b4f0-0e0c19ec7670",
   "metadata": {},
   "source": [
    "Load in CSV:"
   ]
  },
  {
   "cell_type": "code",
   "execution_count": null,
   "id": "62185829-8f17-47ec-86e1-6f5d09cc25ec",
   "metadata": {},
   "outputs": [],
   "source": [
    "df = pd.read_csv(\"Locations_of_Docked_Bikeshare_Stations_by_System_and_Year.csv\")"
   ]
  },
  {
   "cell_type": "code",
   "execution_count": null,
   "id": "2f9749d9-ed9c-4811-b23c-b04a2665c9d5",
   "metadata": {},
   "outputs": [],
   "source": [
    "df.describe()"
   ]
  },
  {
   "cell_type": "markdown",
   "id": "069b377a-b080-4438-921c-082a14695bc4",
   "metadata": {},
   "source": [
    "# Bikeshare Systems by Year"
   ]
  },
  {
   "cell_type": "code",
   "execution_count": null,
   "id": "916046ef-f219-4999-a216-339b2b54e178",
   "metadata": {},
   "outputs": [],
   "source": [
    "df2 = df.groupby(\"YEAR\").size()\n",
    "df2"
   ]
  },
  {
   "cell_type": "code",
   "execution_count": null,
   "id": "00a4063d-0780-431e-ae6b-0aee6ef01adf",
   "metadata": {},
   "outputs": [],
   "source": [
    "plt.plot(df2)\n",
    "plt.grid()\n",
    "plt.title('Total number of Bikeshare Stations by Year Since 2015')\n",
    "plt.xlabel(\"Year\")\n",
    "plt.ylabel(\"# of bikeshare stations\")"
   ]
  },
  {
   "cell_type": "markdown",
   "id": "621518b9-b12e-4730-8288-e12afccf8e07",
   "metadata": {},
   "source": [
    "# Which Cities Have the Most Bikeshare Stations?"
   ]
  },
  {
   "cell_type": "code",
   "execution_count": null,
   "id": "abef8f53-14a9-440c-940e-8c79e06a9f0b",
   "metadata": {},
   "outputs": [],
   "source": [
    "df3 = df.groupby(\"CITY\").size()\n",
    "\n",
    "df3 = df3.sort_values(ascending=False)\n",
    "df3.head(20)"
   ]
  },
  {
   "cell_type": "markdown",
   "id": "fb6f1c4c-3ba0-4fba-b555-71942c688825",
   "metadata": {},
   "source": [
    "### Some interesting points:\n",
    "- NYC is the winner (when we include Brooklyn)\n",
    "-Minneapolis and Topeka have quite a few, considering their size\n",
    "-Los Angeles, despite being the 2nd largest city in the country, comes in at #11.\n",
    "-Some noteable exclusions from the top 20 cities are Seattle, Indianapolis, Detroit, Dallas, Nashville, and Phoenix."
   ]
  },
  {
   "cell_type": "markdown",
   "id": "8404df60-669a-4701-a27e-f71d6c1f2189",
   "metadata": {},
   "source": [
    "# Which brand has the most stations?"
   ]
  },
  {
   "cell_type": "code",
   "execution_count": null,
   "id": "9e4cc678-e73b-452e-a603-d238564861fc",
   "metadata": {},
   "outputs": [],
   "source": [
    "df4 = df.groupby(\"SYSTEM_NAME\").size()\n",
    "\n",
    "df4 = df4.sort_values(ascending=False)\n",
    "df4.head(20)"
   ]
  },
  {
   "cell_type": "markdown",
   "id": "7687f4c6-3c10-44ec-8fd1-f8f1d797de45",
   "metadata": {},
   "source": [
    "# "
   ]
  },
  {
   "cell_type": "code",
   "execution_count": null,
   "id": "8296e62f-b66c-4a2a-a819-d7734eaf10c6",
   "metadata": {},
   "outputs": [],
   "source": [
    "df5 = pd.pivot_table(df,columns = \"YEAR\",index=\"CITY\",aggfunc='size')\n",
    "df5.describe()"
   ]
  },
  {
   "cell_type": "markdown",
   "id": "dca9bebc-6ecd-4807-8a8b-be921f47618a",
   "metadata": {},
   "source": [
    "# FINDINGS\n",
    "- Bikesharing systems are growing in popularity around the United States\n",
    "-There is a lot of room for bikesharing systems to grow in cities such as LA, which have very few bikes compared to cities like Chicago and NYC.\n",
    "-There is healthy competition among systems, with each city usually having its own system."
   ]
  }
 ],
 "metadata": {
  "kernelspec": {
   "display_name": "Python 3 (ipykernel)",
   "language": "python",
   "name": "python3"
  },
  "language_info": {
   "codemirror_mode": {
    "name": "ipython",
    "version": 3
   },
   "file_extension": ".py",
   "mimetype": "text/x-python",
   "name": "python",
   "nbconvert_exporter": "python",
   "pygments_lexer": "ipython3",
   "version": "3.9.5"
  }
 },
 "nbformat": 4,
 "nbformat_minor": 5
}
